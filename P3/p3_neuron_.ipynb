{
 "cells": [
  {
   "cell_type": "code",
   "execution_count": 1,
   "metadata": {},
   "outputs": [],
   "source": [
    "from typing import List"
   ]
  },
  {
   "cell_type": "code",
   "execution_count": 32,
   "metadata": {},
   "outputs": [],
   "source": [
    "class Perceptron():\n",
    "    def __init__(self, weights: List[float], bias: float):\n",
    "        self.bias = bias\n",
    "        self.weights = weights\n",
    "        \n",
    "    def get_gate_output(self, inputs=[0,0]):\n",
    "        totalweights = self.bias\n",
    "        for index in range(len(inputs)):\n",
    "            totalweights += inputs[index] * self.weights[index]\n",
    "        if totalweights >= 0:\n",
    "            return 1\n",
    "        else: \n",
    "            return 0\n",
    "        \n",
    "    def __str__(self):\n",
    "        #help\n",
    "        return self.weights, self.bias\n",
    "        \n",
    "    "
   ]
  },
  {
   "cell_type": "code",
   "execution_count": 33,
   "metadata": {},
   "outputs": [
    {
     "name": "stdout",
     "output_type": "stream",
     "text": [
      "\n",
      "Invert Port:\n",
      "Expected | Output\n",
      "0 | 0\n",
      "1 | 1\n",
      "\n",
      "AND Port:\n",
      "Expected | Output\n",
      "1 | 1\n",
      "0 | 0\n",
      "0 | 0\n",
      "0 | 0\n",
      "\n",
      "OR_port:\n",
      "Expected | Output\n",
      "1 | 1\n",
      "1 | 1\n",
      "1 | 1\n",
      "0 | 0\n",
      "\n",
      "Nor Port:\n",
      "Expected | Output\n",
      "0 | 0\n",
      "0 | 0\n",
      "0 | 0\n",
      "1 | 1\n",
      "\n",
      "Party_port:\n",
      "Expected | Output\n",
      "1 | 1\n",
      "1 | 1\n",
      "1 | 1\n",
      "0 | 0\n",
      "1 | 1\n",
      "0 | 0\n",
      "1 | 1\n",
      "0 | 0\n"
     ]
    }
   ],
   "source": [
    "'''DE PRINT VOOR DE STANDAARD GATES'''\n",
    "print('\\nInvert Port:\\nExpected | Output')\n",
    "INVERT_port = Perceptron(weights=[-1], bias=0.5)\n",
    "print(\"0 |\", INVERT_port.get_gate_output([1]))\n",
    "print(\"1 |\", INVERT_port.get_gate_output([0]))\n",
    "\n",
    "print('\\nAND Port:\\nExpected | Output')\n",
    "AND_port = Perceptron(weights=[0.5, 0.5], bias=-1)\n",
    "print(\"1 |\",AND_port.get_gate_output([1, 1]))\n",
    "print(\"0 |\",AND_port.get_gate_output([0, 1]))\n",
    "print(\"0 |\",AND_port.get_gate_output([1, 0]))\n",
    "print(\"0 |\",AND_port.get_gate_output([0, 0]))\n",
    "\n",
    "print('\\nOR_port:\\nExpected | Output')\n",
    "OR_port = Perceptron(weights=[0.5, 0.5], bias=-0.5)\n",
    "print(\"1 |\",OR_port.get_gate_output([1, 1]))\n",
    "print(\"1 |\",OR_port.get_gate_output([0, 1]))\n",
    "print(\"1 |\",OR_port.get_gate_output([1, 0]))\n",
    "print(\"0 |\",OR_port.get_gate_output([0, 0]))\n",
    "\n",
    "print('\\nNor Port:\\nExpected | Output')\n",
    "NOR_port = Perceptron(weights=[-0.5, -0.5], bias=0)\n",
    "print(\"0 |\",NOR_port.get_gate_output([1, 1]))\n",
    "print(\"0 |\",NOR_port.get_gate_output([0, 1]))\n",
    "print(\"0 |\",NOR_port.get_gate_output([1, 0]))\n",
    "print(\"1 |\",NOR_port.get_gate_output([0, 0]))\n",
    "\n",
    "print('\\nParty_port:\\nExpected | Output')\n",
    "Party_port = Perceptron(weights=[0.6, 0.3, 0.2], bias=-0.4)\n",
    "print(\"1 |\",Party_port.get_gate_output([1, 1, 1]))\n",
    "print(\"1 |\",Party_port.get_gate_output([0, 1, 1]))\n",
    "print(\"1 |\",Party_port.get_gate_output([1, 0, 1]))\n",
    "print(\"0 |\",Party_port.get_gate_output([0, 0, 1]))\n",
    "print(\"1 |\",Party_port.get_gate_output([1, 1, 0]))\n",
    "print(\"0 |\",Party_port.get_gate_output([0, 1, 0]))\n",
    "print(\"1 |\",Party_port.get_gate_output([1, 0, 0]))\n",
    "print(\"0 |\",Party_port.get_gate_output([0, 0, 0]))\n"
   ]
  },
  {
   "cell_type": "code",
   "execution_count": 4,
   "metadata": {},
   "outputs": [],
   "source": [
    "class PerceptronLayer:\n",
    "    layer = None\n",
    "    def __init__(self, gatesInLayer, Gateinput):\n",
    "        gatesLayerOutputList = []\n",
    "        for index in range(len(gatesInLayer)):\n",
    "            gatesLayerOutputList.append(gatesInLayer[index].get_gate_output(Gateinput))\n",
    "            self.gatesLayerOutputList = gatesLayerOutputList\n",
    "    def __iter__(self):\n",
    "        return self.gatesLayerOutputList"
   ]
  },
  {
   "cell_type": "code",
   "execution_count": 5,
   "metadata": {},
   "outputs": [
    {
     "name": "stdout",
     "output_type": "stream",
     "text": [
      "[NOR, OR, AND]:\n",
      "[0, 1, 0] | [0, 1, 0]\n"
     ]
    }
   ],
   "source": [
    "\n",
    "#                        NOR         OR          AND\n",
    "pl = PerceptronLayer([NOR_port, OR_port, AND_port], [0, 1])\n",
    "print(\"[NOR, OR, AND]:\")\n",
    "print(\"[0, 1, 0] |\", pl.__iter__())"
   ]
  },
  {
   "cell_type": "code",
   "execution_count": 6,
   "metadata": {},
   "outputs": [],
   "source": [
    "class PerceptronNetwork:\n",
    "    layer = None\n",
    "    def __init__(self, networkStructure):\n",
    "        self.networkStructure = networkStructure\n",
    "        return\n",
    "    \n",
    "    def feed_forward(self, networkInput):\n",
    "        for layer in range(len(self.networkStructure)):\n",
    "            pl = PerceptronLayer(self.networkStructure[layer], networkInput)\n",
    "            networkInput = pl.__iter__()\n",
    "#         print(pl.__iter__())\n",
    "        return pl.__iter__()\n",
    "    \n",
    "    def __str__(self):\n",
    "        return self.output"
   ]
  },
  {
   "cell_type": "code",
   "execution_count": 7,
   "metadata": {},
   "outputs": [
    {
     "name": "stdout",
     "output_type": "stream",
     "text": [
      "\n",
      "XOR Port\n",
      "[0]\n",
      "[1]\n",
      "[1]\n",
      "[0]\n"
     ]
    }
   ],
   "source": [
    "\n",
    "print('\\nXOR Port')\n",
    "#                                     layer 1                layer 2\n",
    "#                                 OR          NAND              AND   \n",
    "\n",
    "NAND_port = Perceptron(weights=[-0.5, -0.5], bias=0.5)\n",
    "XOR = PerceptronNetwork( [ [ OR_port, NAND_port ], [ AND_port ] ] )\n",
    "print(XOR.feed_forward([1,1]))\n",
    "print(XOR.feed_forward([1,0]))\n",
    "print(XOR.feed_forward([0,1]))\n",
    "print(XOR.feed_forward([0,0]))"
   ]
  },
  {
   "cell_type": "code",
   "execution_count": 8,
   "metadata": {},
   "outputs": [
    {
     "name": "stdout",
     "output_type": "stream",
     "text": [
      "\n",
      "Half Adder Port\n",
      "1,0 | [1, 0]\n",
      "0,1 | [0, 1]\n",
      "0,1 | [0, 1]\n",
      "0,0 | [0, 0]\n"
     ]
    }
   ],
   "source": [
    "print('\\nHalf Adder Port')\n",
    "#                                     layer 1                layer 2\n",
    "#                                 OR          NAND              AND   \n",
    "\n",
    "Half_adder = PerceptronNetwork( [ [ OR_port, NAND_port ], [ AND_port ] ]  )\n",
    "\n",
    "print(\"1,0 |\",[AND_port.get_gate_output([1,1])] + Half_adder.feed_forward([1,1]))\n",
    "print(\"0,1 |\",[AND_port.get_gate_output([1,0])] + Half_adder.feed_forward([1,0]))\n",
    "print(\"0,1 |\",[AND_port.get_gate_output([0,1])] + Half_adder.feed_forward([0,1]))\n",
    "print(\"0,0 |\",[AND_port.get_gate_output([0,0])] + Half_adder.feed_forward([0,0]))"
   ]
  },
  {
   "cell_type": "markdown",
   "metadata": {},
   "source": [
    "## Neuron P3\n"
   ]
  },
  {
   "cell_type": "code",
   "execution_count": 34,
   "metadata": {},
   "outputs": [],
   "source": [
    "class Neuron:\n",
    "    layer = None\n",
    "    def __init__(self, weights: List[float], bias: float):\n",
    "        self.bias = bias\n",
    "        self.weights = weights\n",
    "    \n",
    "    def get_gate_output(self, inputs=[0,0]): #source: https://www.simplilearn.com/what-is-perceptron-tutorial#:~:text=Sigmoid%20Activation%20Function,-The%20diagram%20given&text=This%20is%20called%20a%20logistic,zero%20for%20highly%20negative%20input.\n",
    "        netinput = self.bias\n",
    "        for index in range(len(inputs)):\n",
    "            netinput += inputs[index] * self.weights[index]\n",
    "        netoutput = 1/(1 + 2.71828**-netinput) #source for 2.71828: https://en.wikipedia.org/wiki/E_(mathematical_constant) \n",
    "        if netoutput >= 0.5:\n",
    "            return 1\n",
    "        else: \n",
    "            return 0"
   ]
  },
  {
   "cell_type": "code",
   "execution_count": 36,
   "metadata": {
    "scrolled": false
   },
   "outputs": [
    {
     "name": "stdout",
     "output_type": "stream",
     "text": [
      "\n",
      "Invert Port:\n",
      "Expected | Output\n",
      "0 | 0\n",
      "1 | 1\n",
      "\n",
      "AND Port:\n",
      "Expected | Output\n",
      "1 | 1\n",
      "0 | 0\n",
      "0 | 0\n",
      "0 | 0\n",
      "\n",
      "OR_port:\n",
      "Expected | Output\n",
      "1 | 1\n",
      "1 | 1\n",
      "1 | 1\n",
      "0 | 0\n",
      "\n",
      "Nor Port:\n",
      "Expected | Output\n",
      "0 | 0\n",
      "0 | 0\n",
      "0 | 0\n",
      "1 | 1\n",
      "\n",
      "Party_port:\n",
      "Expected | Output\n",
      "1 | 1\n",
      "1 | 1\n",
      "1 | 1\n",
      "0 | 0\n",
      "1 | 1\n",
      "0 | 0\n",
      "1 | 1\n",
      "0 | 0\n",
      "\n",
      "Nor Port:\n",
      "Expected | Output\n",
      "0 | 0\n",
      "0 | 0\n",
      "0 | 0\n",
      "0 | 0\n",
      "0 | 0\n",
      "0 | 0\n",
      "0 | 0\n",
      "1 | 1\n"
     ]
    }
   ],
   "source": [
    "'''DE PRINT VOOR DE STANDAARD GATES'''\n",
    "print('\\nInvert Port:\\nExpected | Output')\n",
    "INVERT_port = Neuron(weights=[-1], bias=0.5)\n",
    "print(\"0 |\", INVERT_port.get_gate_output([1]))\n",
    "print(\"1 |\", INVERT_port.get_gate_output([0]))\n",
    "\n",
    "print('\\nAND Port:\\nExpected | Output')\n",
    "AND_port = Neuron(weights=[0.5, 0.5], bias=-1)\n",
    "print(\"1 |\",AND_port.get_gate_output([1, 1]))\n",
    "print(\"0 |\",AND_port.get_gate_output([0, 1]))\n",
    "print(\"0 |\",AND_port.get_gate_output([1, 0]))\n",
    "print(\"0 |\",AND_port.get_gate_output([0, 0]))\n",
    "\n",
    "print('\\nOR_port:\\nExpected | Output')\n",
    "OR_port = Neuron(weights=[0.5, 0.5], bias=-0.5)\n",
    "print(\"1 |\",OR_port.get_gate_output([1, 1]))\n",
    "print(\"1 |\",OR_port.get_gate_output([0, 1]))\n",
    "print(\"1 |\",OR_port.get_gate_output([1, 0]))\n",
    "print(\"0 |\",OR_port.get_gate_output([0, 0]))\n",
    "\n",
    "print('\\nNor Port:\\nExpected | Output')\n",
    "NOR_port = Neuron(weights=[-0.5, -0.5], bias=0)\n",
    "print(\"0 |\",NOR_port.get_gate_output([1, 1]))\n",
    "print(\"0 |\",NOR_port.get_gate_output([0, 1]))\n",
    "print(\"0 |\",NOR_port.get_gate_output([1, 0]))\n",
    "print(\"1 |\",NOR_port.get_gate_output([0, 0]))\n",
    "\n",
    "print('\\nParty_port:\\nExpected | Output')\n",
    "Party_port = Neuron(weights=[0.6, 0.3, 0.2], bias=-0.4)\n",
    "print(\"1 |\",Party_port.get_gate_output([1, 1, 1]))\n",
    "print(\"1 |\",Party_port.get_gate_output([0, 1, 1]))\n",
    "print(\"1 |\",Party_port.get_gate_output([1, 0, 1]))\n",
    "print(\"0 |\",Party_port.get_gate_output([0, 0, 1]))\n",
    "print(\"1 |\",Party_port.get_gate_output([1, 1, 0]))\n",
    "print(\"0 |\",Party_port.get_gate_output([0, 1, 0]))\n",
    "print(\"1 |\",Party_port.get_gate_output([1, 0, 0]))\n",
    "print(\"0 |\",Party_port.get_gate_output([0, 0, 0]))\n",
    "\n",
    "print('\\nNor Port:\\nExpected | Output')\n",
    "NOR3_port = Neuron(weights=[-0.5, -0.5, -0.5], bias=0)\n",
    "print(\"0 |\",NOR3_port.get_gate_output([1, 1, 1]))\n",
    "print(\"0 |\",NOR3_port.get_gate_output([0, 1, 1]))\n",
    "print(\"0 |\",NOR3_port.get_gate_output([1, 0, 1]))\n",
    "print(\"0 |\",NOR3_port.get_gate_output([0, 0, 1]))\n",
    "print(\"0 |\",NOR3_port.get_gate_output([1, 1, 0]))\n",
    "print(\"0 |\",NOR3_port.get_gate_output([0, 1, 0]))\n",
    "print(\"0 |\",NOR3_port.get_gate_output([1, 0, 0]))\n",
    "print(\"1 |\",NOR3_port.get_gate_output([0, 0, 0]))"
   ]
  },
  {
   "cell_type": "markdown",
   "metadata": {},
   "source": [
    "#### Het klopt, omdat er geen verschil is tussen Perceptron en Neuron bij deze standaard poorten"
   ]
  },
  {
   "cell_type": "code",
   "execution_count": 37,
   "metadata": {},
   "outputs": [],
   "source": [
    "class NeuronLayer:\n",
    "    layer = None\n",
    "    def __init__(self, gatesInLayer, Gateinput):\n",
    "        gatesLayerOutputList = []\n",
    "        for index in range(len(gatesInLayer)):\n",
    "            gatesLayerOutputList.append(gatesInLayer[index].get_gate_output(Gateinput))\n",
    "            self.gatesLayerOutputList = gatesLayerOutputList\n",
    "    def __iter__(self):\n",
    "        return self.gatesLayerOutputList\n"
   ]
  },
  {
   "cell_type": "code",
   "execution_count": 38,
   "metadata": {},
   "outputs": [
    {
     "name": "stdout",
     "output_type": "stream",
     "text": [
      "[NOR, OR, AND]:\n",
      "[0, 1, 0] | [0, 1, 0]\n"
     ]
    }
   ],
   "source": [
    "#                        NOR         OR          AND\n",
    "pl = NeuronLayer([NOR_port, OR_port, AND_port], [0, 1])\n",
    "print(\"[NOR, OR, AND]:\")\n",
    "print(\"[0, 1, 0] |\", pl.__iter__())"
   ]
  },
  {
   "cell_type": "code",
   "execution_count": 91,
   "metadata": {},
   "outputs": [],
   "source": [
    "class NeuronNetwork:\n",
    "    layer = None\n",
    "    def __init__(self, networkStructure):\n",
    "        self.networkStructure = networkStructure\n",
    "        return\n",
    "    \n",
    "    def feed_forward(self, networkInput):\n",
    "        self.networkInput = networkInput\n",
    "        for layer in range(len(self.networkStructure)):\n",
    "            pl = NeuronLayer(self.networkStructure[layer], networkInput)\n",
    "            networkInput = pl.__iter__()\n",
    "        self.output = pl.__iter__()\n",
    "        return pl.__iter__()\n",
    "    \n",
    "    def __str__(self):\n",
    "        return \"With input: \" + str(self.networkInput) + \" Gives: \"+ str(self.output[-1]) "
   ]
  },
  {
   "cell_type": "code",
   "execution_count": 94,
   "metadata": {},
   "outputs": [
    {
     "name": "stdout",
     "output_type": "stream",
     "text": [
      "\n",
      "XOR Port\n",
      "0 | [0]\n",
      "1 | [1]\n",
      "1 | [1]\n",
      "0 | [0]\n",
      "With input: [0, 0] Gives: 0\n"
     ]
    }
   ],
   "source": [
    "\n",
    "print('\\nXOR Port')\n",
    "#                                     layer 1                layer 2\n",
    "#                                 OR          NAND              AND   \n",
    "\n",
    "NAND_port = Neuron(weights=[-0.5, -0.5], bias=0.5)\n",
    "XOR = NeuronNetwork( [ [ OR_port, NAND_port ], [ AND_port ] ] )\n",
    "print(\"0 |\",XOR.feed_forward([1,1]))\n",
    "print(\"1 |\",XOR.feed_forward([1,0]))\n",
    "print(\"1 |\",XOR.feed_forward([0,1]))\n",
    "print(\"0 |\",XOR.feed_forward([0,0]))\n",
    "print(XOR)"
   ]
  },
  {
   "cell_type": "code",
   "execution_count": 93,
   "metadata": {},
   "outputs": [
    {
     "name": "stdout",
     "output_type": "stream",
     "text": [
      "\n",
      "Half Adder Port\n",
      "1,0 | [1, 0]\n",
      "0,1 | [0, 1]\n",
      "0,1 | [0, 1]\n",
      "0,0 | [0, 0]\n"
     ]
    }
   ],
   "source": [
    "print('\\nHalf Adder Port')\n",
    "#                                     layer 1                layer 2\n",
    "#                                 OR          NAND              AND   \n",
    "\n",
    "Half_adder = PerceptronNetwork( [ [ OR_port, NAND_port ], [ AND_port ] ]  )\n",
    "\n",
    "print(\"1,0 |\",[AND_port.get_gate_output([1,1])] + Half_adder.feed_forward([1,1]))\n",
    "print(\"0,1 |\",[AND_port.get_gate_output([1,0])] + Half_adder.feed_forward([1,0]))\n",
    "print(\"0,1 |\",[AND_port.get_gate_output([0,1])] + Half_adder.feed_forward([0,1]))\n",
    "print(\"0,0 |\",[AND_port.get_gate_output([0,0])] + Half_adder.feed_forward([0,0]))"
   ]
  },
  {
   "cell_type": "code",
   "execution_count": null,
   "metadata": {},
   "outputs": [],
   "source": []
  }
 ],
 "metadata": {
  "kernelspec": {
   "display_name": "Python 3",
   "language": "python",
   "name": "python3"
  },
  "language_info": {
   "codemirror_mode": {
    "name": "ipython",
    "version": 3
   },
   "file_extension": ".py",
   "mimetype": "text/x-python",
   "name": "python",
   "nbconvert_exporter": "python",
   "pygments_lexer": "ipython3",
   "version": "3.7.4"
  }
 },
 "nbformat": 4,
 "nbformat_minor": 4
}
