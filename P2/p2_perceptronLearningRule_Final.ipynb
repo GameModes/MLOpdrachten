{
 "cells": [
  {
   "cell_type": "code",
   "execution_count": 1,
   "metadata": {},
   "outputs": [],
   "source": [
    "from typing import List\n"
   ]
  },
  {
   "cell_type": "code",
   "execution_count": 2,
   "metadata": {},
   "outputs": [],
   "source": [
    "class Perceptron():\n",
    "    def __init__(self, weights: List[float], bias: float, x_d: List[float]):\n",
    "        self.bias = bias\n",
    "        self.weights = weights\n",
    "        self.x_d = x_d\n",
    "    \n",
    "    def get_Aformule(self, x, weights, bias, learningtable):\n",
    "        '''\n",
    "        uses the A formula: A(x^i) = sigmoid(w1 * a1 + w2 * a2  + bias)\n",
    "        '''\n",
    "#         print(\"Current Input:\", learningtable[x])\n",
    "        totalWeightsVariabel = 0\n",
    "        e = 2.71828\n",
    "        for a in range(len(learningtable[x])):\n",
    "            totalWeightsVariabel += learningtable[x][a] * weights[a]\n",
    "        return 1/(1 + e*(-(totalWeightsVariabel - bias)))\n",
    "    \n",
    "    def error(self, weights, bias, learningtable):\n",
    "        '''\n",
    "        calculate with the (d(i) – a(x^i))^2 formula the total error\n",
    "        '''\n",
    "        totalRMSE = 0\n",
    "        for x in range(len(learningtable)):\n",
    "            A_formule = self.get_Aformule(x, weights, bias, learningtable)\n",
    "            RMSE = (self.x_d[x] - A_formule)**2\n",
    "\n",
    "            totalRMSE += RMSE\n",
    "        cw_formule = totalRMSE / (2*len(learningtable))\n",
    "        return cw_formule\n",
    "    \n",
    "    def weights_tester(self, iteractie, weights, bias)-> list:\n",
    "        '''\n",
    "        Checks with the current Weights and bias, the output it gives and returns it\n",
    "        '''\n",
    "        totalsum = 0\n",
    "        for x in range(len(iteractie)):\n",
    "            totalsum += iteractie[x] * weights[x]\n",
    "        if totalsum + bias > 0:\n",
    "            return 1\n",
    "        else: \n",
    "            return 0\n",
    "    \n",
    "    def update(self, weights, bias, learningrate, x_d, learningtable):\n",
    "        '''\n",
    "        Gets the total loss and uses it to change the weights and bias to get accurate scores\n",
    "        This continues until every target of the weights calculated with the x_d is correct.\n",
    "        Then it returns the weights and bias it ended with\n",
    "        \n",
    "        '''\n",
    "        broken = False\n",
    "        correct_weights = False #to start off the while loop\n",
    "        whileloopcounter = 0\n",
    "        while correct_weights == False:\n",
    "            whileloopcounter += 1\n",
    "            correct_weights = True #if not detected changes the while loop gets run only once\n",
    "            for x in range(len(learningtable)):   \n",
    "#                 print(\"Current Bias: \", bias)\n",
    "#                 print(\"Current Weights: \", weights)\n",
    "                A_formule = self.get_Aformule(x, weights, bias, learningtable)        \n",
    "                true_output = self.weights_tester(learningtable[x], weights , bias)\n",
    "                expected_output = x_d[x]\n",
    "                #get new bias aka w0\n",
    "                deltaw = learningrate * (expected_output - true_output ) * 1 #for w1 and more\n",
    "#                 print(\"deltaw: \", deltaw)\n",
    "                if deltaw != 0 and whileloopcounter <= 20:\n",
    "                    correct_weights = False\n",
    "                bias = round(deltaw + bias, 2)\n",
    "                #get new weights\n",
    "                for weight_index in range(len(weights)):\n",
    "                    deltaw = learningrate * (expected_output - true_output ) * learningtable[x][weight_index] #for w1 and more\n",
    "#                     print(\"deltaw: \", deltaw)\n",
    "                    \n",
    "                    if deltaw != 0 and whileloopcounter <= 50:\n",
    "                        correct_weights = False\n",
    "                    elif whileloopcounter > 50:\n",
    "                        correct_weights = True\n",
    "                        broken = True\n",
    "                    weights[weight_index] = round(deltaw + weights[weight_index],2)\n",
    "                \n",
    "#                 print(\"Changed Bias: \", bias)\n",
    "#                 print(\"Changed Weights: \", weights)\n",
    "#                 print('\\n')\n",
    "        if broken:\n",
    "            print('It broke')\n",
    "        return weights, bias "
   ]
  },
  {
   "cell_type": "code",
   "execution_count": null,
   "metadata": {},
   "outputs": [],
   "source": []
  },
  {
   "cell_type": "code",
   "execution_count": null,
   "metadata": {},
   "outputs": [],
   "source": []
  },
  {
   "cell_type": "code",
   "execution_count": null,
   "metadata": {},
   "outputs": [],
   "source": []
  },
  {
   "cell_type": "code",
   "execution_count": 3,
   "metadata": {},
   "outputs": [
    {
     "name": "stdout",
     "output_type": "stream",
     "text": [
      "0.10289897313503939\n"
     ]
    },
    {
     "data": {
      "text/plain": [
       "([0.6, 0.6, 0.6], -1.4)"
      ]
     },
     "execution_count": 3,
     "metadata": {},
     "output_type": "execute_result"
    }
   ],
   "source": [
    "weights = [0.5, 0.5, 0.5]\n",
    "bias=-1.5  \n",
    "\n",
    "AND_d = [0,0,0,0,1,0,0,0]\n",
    "OR_d = [1,1,1,0,1,1,1,1]\n",
    "NOR_d = [0,0,0,1,0,0,0,0]\n",
    "NAND_d = [1,1,1,1,0,1,1,1]\n",
    "learningtable = [[1,1,0],[1,0,0],[0,1,0],[0,0,0],[1,1,1],[1,0,1],[0,1,1],[0,0,1]]\n",
    "\n",
    "# XOR_d = [0, 1, 1, 0]\n",
    "# learningtable = [[1,1],[1,0],[0,1],[0,0]]\n",
    "\n",
    "learningrate = 0.1\n",
    "AND_Perceptron = Perceptron(weights, bias, AND_d)\n",
    "print(AND_Perceptron.error(weights, bias, learningtable))\n",
    "AND_Perceptron.update(weights, bias, learningrate, AND_d, learningtable)"
   ]
  },
  {
   "cell_type": "markdown",
   "metadata": {},
   "source": [
    "##### Dit klopt omdat je kan het zelf nachecken en dan klopt elk antwoord met de gekregen weights"
   ]
  },
  {
   "cell_type": "code",
   "execution_count": 4,
   "metadata": {},
   "outputs": [
    {
     "name": "stdout",
     "output_type": "stream",
     "text": [
      "0.5471563712075515\n",
      "It broke\n"
     ]
    },
    {
     "data": {
      "text/plain": [
       "([0.1, 0.0, 0.2], 0.0)"
      ]
     },
     "execution_count": 4,
     "metadata": {},
     "output_type": "execute_result"
    }
   ],
   "source": [
    "weights = [0.5, 0.5, 0.5]\n",
    "bias=-1.5  \n",
    "\n",
    "learningrate = 0.1\n",
    "learningtable = [[1,1,0],[1,0,0],[0,1,0],[0,0,0],[1,1,1],[1,0,1],[0,1,1],[0,0,1]]\n",
    "XOR_d = [1,1,1,0,0,1,1,1]\n",
    "XOR_Perceptron = Perceptron(weights, bias, XOR_d)\n",
    "print(XOR_Perceptron.error(weights, bias, learningtable))\n",
    "XOR_Perceptron.update(weights, bias, learningrate, XOR_d, learningtable)"
   ]
  },
  {
   "cell_type": "markdown",
   "metadata": {},
   "source": [
    "##### Dit klopt niet, omdat de while loop uiteindelijk meer dan 50x probeert en uiteindelijk opgeeft en dat print met \"it broke\" de gewichten kloppen ook niet als je ze vergelijkt met de nodige uitkomst"
   ]
  },
  {
   "cell_type": "markdown",
   "metadata": {},
   "source": [
    "### Iris dataset"
   ]
  },
  {
   "cell_type": "code",
   "execution_count": 5,
   "metadata": {},
   "outputs": [],
   "source": [
    "from sklearn.datasets import load_iris"
   ]
  },
  {
   "cell_type": "code",
   "execution_count": 6,
   "metadata": {},
   "outputs": [],
   "source": [
    "orginal_array = load_iris().get('target')"
   ]
  },
  {
   "cell_type": "code",
   "execution_count": null,
   "metadata": {},
   "outputs": [],
   "source": []
  },
  {
   "cell_type": "markdown",
   "metadata": {},
   "source": [
    "##### Compare the first with the second & third flower"
   ]
  },
  {
   "cell_type": "code",
   "execution_count": 7,
   "metadata": {},
   "outputs": [
    {
     "data": {
      "text/plain": [
       "4"
      ]
     },
     "execution_count": 7,
     "metadata": {},
     "output_type": "execute_result"
    }
   ],
   "source": [
    "Irislearningtable = load_iris().get('data') #\n",
    "len(Irislearningtable[0]) #so 4 test weights needed"
   ]
  },
  {
   "cell_type": "code",
   "execution_count": 8,
   "metadata": {},
   "outputs": [
    {
     "name": "stdout",
     "output_type": "stream",
     "text": [
      "[0, 0, 0, 0, 0, 0, 0, 0, 0, 0, 0, 0, 0, 0, 0, 0, 0, 0, 0, 0, 0, 0, 0, 0, 0, 0, 0, 0, 0, 0, 0, 0, 0, 0, 0, 0, 0, 0, 0, 0, 0, 0, 0, 0, 0, 0, 0, 0, 0, 0, 1, 1, 1, 1, 1, 1, 1, 1, 1, 1, 1, 1, 1, 1, 1, 1, 1, 1, 1, 1, 1, 1, 1, 1, 1, 1, 1, 1, 1, 1, 1, 1, 1, 1, 1, 1, 1, 1, 1, 1, 1, 1, 1, 1, 1, 1, 1, 1, 1, 1, 1, 1, 1, 1, 1, 1, 1, 1, 1, 1, 1, 1, 1, 1, 1, 1, 1, 1, 1, 1, 1, 1, 1, 1, 1, 1, 1, 1, 1, 1, 1, 1, 1, 1, 1, 1, 1, 1, 1, 1, 1, 1, 1, 1, 1, 1, 1, 1, 1, 1]\n"
     ]
    }
   ],
   "source": [
    "first_array_d = [1 if x==2 else x for x in orginal_array]\n",
    "print(first_array_d )\n"
   ]
  },
  {
   "cell_type": "code",
   "execution_count": 9,
   "metadata": {},
   "outputs": [
    {
     "data": {
      "text/plain": [
       "([-0.01, 0.15, 0.36, 0.48], -1.6)"
      ]
     },
     "execution_count": 9,
     "metadata": {},
     "output_type": "execute_result"
    }
   ],
   "source": [
    "weights = [0.5, 0.5, 0.5, 0.5]\n",
    "bias=-1.5  \n",
    "learningrate = 0.1\n",
    "IRIS1_Perceptron = Perceptron(weights, bias, first_array_d)\n",
    "IRIS1_Perceptron.update(weights, bias, learningrate, first_array_d, Irislearningtable)"
   ]
  },
  {
   "cell_type": "code",
   "execution_count": 10,
   "metadata": {},
   "outputs": [
    {
     "data": {
      "text/plain": [
       "'Dit ziet eruit als goeie gewichten omdat elk gewicht niet veel (meer dan 1) veranderd is van de oorsprong'"
      ]
     },
     "execution_count": 10,
     "metadata": {},
     "output_type": "execute_result"
    }
   ],
   "source": [
    "'''Dit ziet eruit als goeie gewichten omdat elk gewicht niet veel (meer dan 1) veranderd is van de oorsprong'''"
   ]
  },
  {
   "cell_type": "markdown",
   "metadata": {},
   "source": [
    "##### Compare the second and third flower"
   ]
  },
  {
   "cell_type": "code",
   "execution_count": 11,
   "metadata": {},
   "outputs": [],
   "source": [
    "second_Irislearningtable = Irislearningtable[50:]\n",
    "second_array_d = orginal_array[50:]"
   ]
  },
  {
   "cell_type": "code",
   "execution_count": 12,
   "metadata": {},
   "outputs": [
    {
     "name": "stdout",
     "output_type": "stream",
     "text": [
      "It broke\n"
     ]
    },
    {
     "data": {
      "text/plain": [
       "([1680.44, 758.87, 1416.26, 517.13], 253.5)"
      ]
     },
     "execution_count": 12,
     "metadata": {},
     "output_type": "execute_result"
    }
   ],
   "source": [
    "weights = [0.5, 0.5, 0.5, 0.5]\n",
    "bias=-1.5  \n",
    "learningrate = 0.1\n",
    "IRIS2_Perceptron = Perceptron(weights, bias, first_array_d)\n",
    "IRIS2_Perceptron.update(weights, bias, learningrate, second_array_d, second_Irislearningtable)\n"
   ]
  },
  {
   "cell_type": "code",
   "execution_count": 13,
   "metadata": {},
   "outputs": [
    {
     "data": {
      "text/plain": [
       "'Dit ziet eruit als slechte gewichten omdat elk gewicht veel veranderd is van de oorsprong en met een learning rate van 0.1 erg veel is gestegen Daarnaast print het dat het kapot is gegaan omdat het zijn limiet bereikt heeft'"
      ]
     },
     "execution_count": 13,
     "metadata": {},
     "output_type": "execute_result"
    }
   ],
   "source": [
    "'''Dit ziet eruit als slechte gewichten omdat elk gewicht veel veranderd is van de oorsprong en met een learning rate van 0.1 erg veel is gestegen Daarnaast print het dat het kapot is gegaan omdat het zijn limiet bereikt heeft'''"
   ]
  },
  {
   "cell_type": "code",
   "execution_count": null,
   "metadata": {},
   "outputs": [],
   "source": []
  }
 ],
 "metadata": {
  "kernelspec": {
   "display_name": "Python 3",
   "language": "python",
   "name": "python3"
  },
  "language_info": {
   "codemirror_mode": {
    "name": "ipython",
    "version": 3
   },
   "file_extension": ".py",
   "mimetype": "text/x-python",
   "name": "python",
   "nbconvert_exporter": "python",
   "pygments_lexer": "ipython3",
   "version": "3.7.4"
  }
 },
 "nbformat": 4,
 "nbformat_minor": 4
}
