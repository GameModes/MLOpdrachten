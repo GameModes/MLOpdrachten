{
 "cells": [
  {
   "cell_type": "code",
   "execution_count": 1,
   "metadata": {},
   "outputs": [],
   "source": [
    "from typing import List\n",
    "import numpy as np"
   ]
  },
  {
   "cell_type": "code",
   "execution_count": 3,
   "metadata": {},
   "outputs": [],
   "source": [
    "class Perceptron():\n",
    "    def __init__(self, weights: List[float], bias: float, x_d: List[float]):\n",
    "        self.bias = bias\n",
    "        self.weights = weights\n",
    "        self.x_d = x_d\n",
    "        \n",
    "    def weights_tester(iteractie, weights, bias)-> list:\n",
    "        totalsum = 0\n",
    "        for x in range(len(iteractie)):\n",
    "            totalsum += iteractie[x] * weights[x]\n",
    "        if totalsum + bias > 0:\n",
    "            return 1\n",
    "        else: \n",
    "            return 0\n",
    "    \n",
    "    def get_Aformule(self, x, weights, bias, learningtable):\n",
    "#         print(\"Current Input:\", learningtable[x])\n",
    "        totalWeightsVariabel = 0\n",
    "        for a in range(len(learningtable[x])):\n",
    "            totalWeightsVariabel += learningtable[x][a] * weights[a]\n",
    "        return 1/(1 + np.exp(-(totalWeightsVariabel - bias)))\n",
    "    \n",
    "    def error(self, weights, bias, learningtable):\n",
    "        totalRMSE = 0\n",
    "        for x in range(len(learningtable)):\n",
    "            A_formule = self.get_Aformule(x, weights, bias, learningtable)\n",
    "            RMSE = (self.x_d[x] - A_formule)**2\n",
    "\n",
    "            totalRMSE += RMSE\n",
    "        cw_formule = totalRMSE / (2*len(learningtable))\n",
    "        return cw_formule\n",
    "    \n",
    "    def weights_tester(self, iteractie, weights, bias)-> list:\n",
    "        totalsum = 0\n",
    "        for x in range(len(iteractie)):\n",
    "            totalsum += iteractie[x] * weights[x]\n",
    "        if totalsum + bias > 0:\n",
    "            return 1\n",
    "        else: \n",
    "            return 0\n",
    "    \n",
    "    def update(self, weights, bias, learningrate, x_d, learningtable):\n",
    "        correct_weights = False #to start off the while loop\n",
    "        whileloopcounter = 0\n",
    "        while correct_weights == False:\n",
    "            whileloopcounter += 1\n",
    "#             print(\"\\033[1mLoop Counter: \",whileloopcounter ,\"\\033[0m\")\n",
    "            correct_weights = True #if not detected changes the while loop gets run only once\n",
    "            for x in range(len(learningtable)):   \n",
    "#                 print(\"Current Bias: \", bias)\n",
    "#                 print(\"Current Weights: \", weights)\n",
    "                A_formule = self.get_Aformule(x, weights, bias, learningtable)        \n",
    "                true_output = self.weights_tester(learningtable[x], weights , bias)\n",
    "                expected_output = x_d[x]\n",
    "                #get new bias aka w0\n",
    "                deltaw = learningrate * (expected_output - true_output ) * 1 #for w1 and more\n",
    "#                 print(\"deltaw: \", deltaw)\n",
    "                if deltaw != 0 and whileloopcounter <= 20:\n",
    "                    correct_weights = False\n",
    "                bias = round(deltaw + bias, 2)\n",
    "                #get new weights\n",
    "                for weight_index in range(len(weights)):\n",
    "                    deltaw = learningrate * (expected_output - true_output ) * learningtable[x][weight_index] #for w1 and more\n",
    "#                     print(\"deltaw: \", deltaw)\n",
    "                    \n",
    "                    if deltaw != 0 and whileloopcounter <= 50:\n",
    "                        correct_weights = False\n",
    "                    weights[weight_index] = round(deltaw + weights[weight_index],2)\n",
    "                \n",
    "#                 print(\"Changed Bias: \", bias)\n",
    "#                 print(\"Changed Weights: \", weights)\n",
    "#                 print('\\n')\n",
    "        return weights, bias "
   ]
  },
  {
   "cell_type": "code",
   "execution_count": null,
   "metadata": {},
   "outputs": [],
   "source": []
  },
  {
   "cell_type": "code",
   "execution_count": null,
   "metadata": {},
   "outputs": [],
   "source": []
  },
  {
   "cell_type": "code",
   "execution_count": null,
   "metadata": {},
   "outputs": [],
   "source": []
  },
  {
   "cell_type": "code",
   "execution_count": 13,
   "metadata": {},
   "outputs": [
    {
     "data": {
      "text/plain": [
       "([0.9, 0.8, 0.8], -0.7)"
      ]
     },
     "execution_count": 13,
     "metadata": {},
     "output_type": "execute_result"
    }
   ],
   "source": [
    "weights = [0.5, 0.5, 0.5]\n",
    "bias=-1.5  \n",
    "# AND_d = [1, 0, 0, 0]\n",
    "# learningtable = [[1,1],[1,0],[0,1],[0,0]]\n",
    "AND_d = [0,0,0,0,1,0,0,0]\n",
    "OR_d = [1,1,1,0,1,1,1,1]\n",
    "NOR_d = [0,0,0,1,0,0,0,0]\n",
    "NAND_d = [1,1,1,1,0,1,1,1]\n",
    "learningtable = [[1,1,0],[1,0,0],[0,1,0],[0,0,0],[1,1,1],[1,0,1],[0,1,1],[0,0,1]]\n",
    "\n",
    "# XOR_d = [0, 1, 1, 0]\n",
    "# learningtable = [[1,1],[1,0],[0,1],[0,0]]\n",
    "\n",
    "learningrate = 0.1\n",
    "AND_Perceptron = Perceptron(weights, bias, OR_d)\n",
    "AND_Perceptron.error(weights, bias, learningtable)\n",
    "AND_Perceptron.update(weights, bias, learningrate, OR_d, learningtable)"
   ]
  },
  {
   "cell_type": "markdown",
   "metadata": {},
   "source": [
    "### Iris dataset"
   ]
  },
  {
   "cell_type": "code",
   "execution_count": 5,
   "metadata": {},
   "outputs": [],
   "source": [
    "from sklearn.datasets import load_iris"
   ]
  },
  {
   "cell_type": "code",
   "execution_count": null,
   "metadata": {},
   "outputs": [],
   "source": [
    "orginal_array = load_iris().get('target')"
   ]
  },
  {
   "cell_type": "code",
   "execution_count": null,
   "metadata": {},
   "outputs": [],
   "source": []
  },
  {
   "cell_type": "markdown",
   "metadata": {},
   "source": [
    "##### Compare the first with the second & third flower"
   ]
  },
  {
   "cell_type": "code",
   "execution_count": 46,
   "metadata": {},
   "outputs": [
    {
     "data": {
      "text/plain": [
       "4"
      ]
     },
     "execution_count": 46,
     "metadata": {},
     "output_type": "execute_result"
    }
   ],
   "source": [
    "Irislearningtable = load_iris().get('data') #\n",
    "len(Irislearningtable[0]) #so 4 test weights needed"
   ]
  },
  {
   "cell_type": "code",
   "execution_count": 40,
   "metadata": {},
   "outputs": [
    {
     "name": "stdout",
     "output_type": "stream",
     "text": [
      "[0, 0, 0, 0, 0, 0, 0, 0, 0, 0, 0, 0, 0, 0, 0, 0, 0, 0, 0, 0, 0, 0, 0, 0, 0, 0, 0, 0, 0, 0, 0, 0, 0, 0, 0, 0, 0, 0, 0, 0, 0, 0, 0, 0, 0, 0, 0, 0, 0, 0, 1, 1, 1, 1, 1, 1, 1, 1, 1, 1, 1, 1, 1, 1, 1, 1, 1, 1, 1, 1, 1, 1, 1, 1, 1, 1, 1, 1, 1, 1, 1, 1, 1, 1, 1, 1, 1, 1, 1, 1, 1, 1, 1, 1, 1, 1, 1, 1, 1, 1, 1, 1, 1, 1, 1, 1, 1, 1, 1, 1, 1, 1, 1, 1, 1, 1, 1, 1, 1, 1, 1, 1, 1, 1, 1, 1, 1, 1, 1, 1, 1, 1, 1, 1, 1, 1, 1, 1, 1, 1, 1, 1, 1, 1, 1, 1, 1, 1, 1, 1]\n"
     ]
    }
   ],
   "source": [
    "first_array_d = [1 if x==2 else x for x in orginal_array]\n",
    "print(first_array_d )\n"
   ]
  },
  {
   "cell_type": "code",
   "execution_count": 43,
   "metadata": {},
   "outputs": [
    {
     "data": {
      "text/plain": [
       "([-0.01, 0.15, 0.36, 0.48], -1.6)"
      ]
     },
     "execution_count": 43,
     "metadata": {},
     "output_type": "execute_result"
    }
   ],
   "source": [
    "weights = [0.5, 0.5, 0.5, 0.5]\n",
    "bias=-1.5  \n",
    "learningrate = 0.1\n",
    "IRIS1_Perceptron = Perceptron(weights, bias, first_array_d)\n",
    "IRIS1_Perceptron.update(weights, bias, learningrate, first_array_d, Irislearningtable)"
   ]
  },
  {
   "cell_type": "code",
   "execution_count": 45,
   "metadata": {},
   "outputs": [
    {
     "data": {
      "text/plain": [
       "'Dit ziet eruit als goeie gewichten omdat elk gewicht niet veel (meer dan 1) veranderd is van de oorsprong'"
      ]
     },
     "execution_count": 45,
     "metadata": {},
     "output_type": "execute_result"
    }
   ],
   "source": [
    "'''Dit ziet eruit als goeie gewichten omdat elk gewicht niet veel (meer dan 1) veranderd is van de oorsprong'''"
   ]
  },
  {
   "cell_type": "markdown",
   "metadata": {},
   "source": [
    "##### Compare the second and third flower"
   ]
  },
  {
   "cell_type": "code",
   "execution_count": 35,
   "metadata": {},
   "outputs": [],
   "source": [
    "second_Irislearningtable = Irislearningtable[50:]\n",
    "second_array_d = orginal_array[50:]"
   ]
  },
  {
   "cell_type": "code",
   "execution_count": 36,
   "metadata": {},
   "outputs": [
    {
     "data": {
      "text/plain": [
       "([1680.44, 758.87, 1416.26, 517.13], 253.5)"
      ]
     },
     "execution_count": 36,
     "metadata": {},
     "output_type": "execute_result"
    }
   ],
   "source": [
    "weights = [0.5, 0.5, 0.5, 0.5]\n",
    "bias=-1.5  \n",
    "learningrate = 0.1\n",
    "IRIS2_Perceptron = Perceptron(weights, bias, first_array_d)\n",
    "IRIS2_Perceptron.update(weights, bias, learningrate, second_array_d, second_Irislearningtable)\n"
   ]
  },
  {
   "cell_type": "code",
   "execution_count": 44,
   "metadata": {},
   "outputs": [
    {
     "data": {
      "text/plain": [
       "'Dit ziet eruit als slechte gewichten omdat elk gewicht veel veranderd is van de oorsprong en met een learning rate van 0.1 erg veel is gestegen'"
      ]
     },
     "execution_count": 44,
     "metadata": {},
     "output_type": "execute_result"
    }
   ],
   "source": [
    "'''Dit ziet eruit als slechte gewichten omdat elk gewicht veel veranderd is van de oorsprong en met een learning rate van 0.1 erg veel is gestegen'''"
   ]
  },
  {
   "cell_type": "code",
   "execution_count": null,
   "metadata": {},
   "outputs": [],
   "source": []
  }
 ],
 "metadata": {
  "kernelspec": {
   "display_name": "Python 3",
   "language": "python",
   "name": "python3"
  },
  "language_info": {
   "codemirror_mode": {
    "name": "ipython",
    "version": 3
   },
   "file_extension": ".py",
   "mimetype": "text/x-python",
   "name": "python",
   "nbconvert_exporter": "python",
   "pygments_lexer": "ipython3",
   "version": "3.7.4"
  }
 },
 "nbformat": 4,
 "nbformat_minor": 4
}
